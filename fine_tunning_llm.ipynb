{
  "nbformat": 4,
  "nbformat_minor": 0,
  "metadata": {
    "colab": {
      "provenance": [],
      "gpuType": "T4",
      "authorship_tag": "ABX9TyPGezlYKzMxUjuA/mCk9HSe",
      "include_colab_link": true
    },
    "kernelspec": {
      "name": "python3",
      "display_name": "Python 3"
    },
    "language_info": {
      "name": "python"
    },
    "accelerator": "GPU"
  },
  "cells": [
    {
      "cell_type": "markdown",
      "metadata": {
        "id": "view-in-github",
        "colab_type": "text"
      },
      "source": [
        "<a href=\"https://colab.research.google.com/github/rafia-10/llm-tuning/blob/main/fine_tunning_llm.ipynb\" target=\"_parent\"><img src=\"https://colab.research.google.com/assets/colab-badge.svg\" alt=\"Open In Colab\"/></a>"
      ]
    },
    {
      "cell_type": "code",
      "execution_count": null,
      "metadata": {
        "id": "AZNY1K7x_ztk"
      },
      "outputs": [],
      "source": [
        "!git config --global user.name \"rafia-10\"\n",
        "!git config --global user.email \"rafiakedir22@gmail.com\""
      ]
    },
    {
      "cell_type": "code",
      "source": [
        "!git clone  https://github.com/rafia-10/llm-tuning.git"
      ],
      "metadata": {
        "id": "f1bZlXKAAGFK"
      },
      "execution_count": null,
      "outputs": []
    },
    {
      "cell_type": "code",
      "source": [
        "%cd llm-tuning"
      ],
      "metadata": {
        "id": "lDtaH5fmAJER"
      },
      "execution_count": null,
      "outputs": []
    },
    {
      "cell_type": "code",
      "source": [
        "!pip install trl\n",
        "!pip install bitsandbytes"
      ],
      "metadata": {
        "id": "opxsmuU7ALxD"
      },
      "execution_count": null,
      "outputs": []
    },
    {
      "cell_type": "markdown",
      "source": [
        "## Import all the necessary libraries"
      ],
      "metadata": {
        "id": "T9SX1dgDCwqg"
      }
    },
    {
      "cell_type": "code",
      "source": [
        "import torch\n",
        "from trl import SFTTrainer\n",
        "from peft import LoraConfig\n",
        "from datasets import load_dataset\n",
        "from transformers import (AutoModelForCausalLM, AutoTokenizer, BitsAndBytesConfig, TrainingArguments, pipeline)"
      ],
      "metadata": {
        "id": "ikbQrm2WCvQU"
      },
      "execution_count": null,
      "outputs": []
    },
    {
      "cell_type": "markdown",
      "source": [
        "## Loading the mode"
      ],
      "metadata": {
        "id": "QpR_YVszCcwU"
      }
    },
    {
      "cell_type": "code",
      "source": [
        "llama_model = AutoModelForCausalLM.from_pretrained(pretrained_model_name_or_path = \"aboonaji/llama2finetune-v2\",\n",
        "                                                   quantization_config = BitsAndBytesConfig(load_in_4bit = True,\n",
        "                                                                                            bnb_4bit_compute_dtype = getattr(torch, \"float16\"),\n",
        "                                                                                            bnb_4bit_quant_type = \"nf4\"))\n",
        "llama_model.config.use_cache = False\n",
        "llama_model.config.pretraining_tp = 1"
      ],
      "metadata": {
        "id": "ZRnt3NQRAdlZ"
      },
      "execution_count": null,
      "outputs": []
    },
    {
      "cell_type": "code",
      "source": [],
      "metadata": {
        "id": "RVtiDdR8Colb"
      },
      "execution_count": null,
      "outputs": []
    }
  ]
}